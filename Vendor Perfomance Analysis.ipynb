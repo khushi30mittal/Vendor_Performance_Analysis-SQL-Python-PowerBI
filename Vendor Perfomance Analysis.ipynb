{
 "cells": [
  {
   "cell_type": "code",
   "execution_count": 2,
   "id": "300bd0f0-5a18-41ce-85c7-936c66a8b401",
   "metadata": {},
   "outputs": [
    {
     "name": "stdout",
     "output_type": "stream",
     "text": [
      "✅ Final folder structure: ['.ipynb_checkpoints', 'begin_inventory.csv', 'end_inventory.csv', 'purchases.csv', 'purchase_prices.csv', 'sales.csv', 'vendor_invoice.csv']\n"
     ]
    }
   ],
   "source": [
    "import zipfile\n",
    "import os\n",
    "import shutil\n",
    "\n",
    "# Path to your uploaded zip file\n",
    "zip_path = \"data.zip\"\n",
    "\n",
    "# Target folder (always \"data\")\n",
    "extract_folder = \"data\"\n",
    "\n",
    "# If \"data\" already exists, remove it to avoid nesting problems\n",
    "if os.path.exists(extract_folder):\n",
    "    shutil.rmtree(extract_folder)\n",
    "\n",
    "# Extract into a temporary folder\n",
    "temp_folder = \"temp_extract\"\n",
    "with zipfile.ZipFile(zip_path, 'r') as zip_ref:\n",
    "    zip_ref.extractall(temp_folder)\n",
    "\n",
    "# If the zip already contains a \"data\" folder -> move its contents up\n",
    "inner_path = os.path.join(temp_folder, \"data\")\n",
    "if os.path.exists(inner_path):\n",
    "    shutil.move(inner_path, extract_folder)\n",
    "    shutil.rmtree(temp_folder)  # clean up\n",
    "else:\n",
    "    # Otherwise, just rename temp folder to \"data\"\n",
    "    os.rename(temp_folder, extract_folder)\n",
    "\n",
    "print(\"✅ Final folder structure:\", os.listdir(extract_folder))\n"
   ]
  },
  {
   "cell_type": "code",
   "execution_count": 13,
   "id": "01ee9715-b916-45e2-bb5a-697c5d948ffb",
   "metadata": {},
   "outputs": [
    {
     "name": "stdout",
     "output_type": "stream",
     "text": [
      "begin_inventory uploaded successfully ✅\n",
      "end_inventory uploaded successfully ✅\n",
      "purchases uploaded successfully ✅\n",
      "purchase_prices uploaded successfully ✅\n",
      "sales uploaded successfully ✅\n",
      "vendor_invoice uploaded successfully ✅\n"
     ]
    }
   ],
   "source": [
    "import pandas as pd\n",
    "import os\n",
    "from sqlalchemy import create_engine\n",
    "import logging\n",
    "import time\n",
    "\n",
    "logging.basicConfig(\n",
    "    filename=\"logs/ingestion_db.log\",\n",
    "    level=logging.DEBUG,\n",
    "    format=\"%(asctime)s - %(levelname)s -%(message)s\",\n",
    "    filemode=\"a\"\n",
    ")\n",
    "\n",
    "engine = create_engine('sqlite:///inventory.db')\n",
    "\n",
    "def ingest_db(df, table_name, engine):\n",
    "    \"\"\"Load CSV as dataframe and ingest into db in chunks to avoid MemoryError\"\"\"\n",
    "    try:\n",
    "        df.to_sql(table_name, \n",
    "                  con=engine, \n",
    "                  if_exists='replace', \n",
    "                  index=False, \n",
    "                  chunksize=10000,  # break into batches\n",
    "                  method='multi')   # insert efficiently\n",
    "        print(f\"{table_name} uploaded successfully ✅\")\n",
    "    except MemoryError:\n",
    "        print(f\" MemoryError on {table_name}... switching to CSV chunk mode\")\n",
    "        for chunk in pd.read_csv(f\"data/{table_name}.csv\", chunksize=50000):\n",
    "            chunk.to_sql(table_name,\n",
    "                         con=engine,\n",
    "                         if_exists='append',\n",
    "                         index=False,\n",
    "                         chunksize=10000,\n",
    "                         method='multi')\n",
    "        print(f\"{table_name} uploaded in chunks ✅\")\n",
    "\n",
    "\n",
    "def load_raw_data():\n",
    "    '''this func will load the CSVs as dataframe and ingest into db'''\n",
    "    start = time.time()\n",
    "    for file in os.listdir('data'):\n",
    "        if '.csv' in file:\n",
    "            df=pd.read_csv('data/'+file)\n",
    "            logging.info(f'Ingesting {file} in db')\n",
    "            ingest_db(df,file[:-4],engine)\n",
    "    end = time.time()\n",
    "    total_time = (end - start)/60\n",
    "    logging.info('--------------INGESTION COMPLETE-------------') \n",
    "\n",
    "    logging.info(f'\\nTotal Time Taken: {total_time} minutes')\n",
    "\n",
    "if __name__ == '__main__':\n",
    "    load_raw_data()"
   ]
  }
 ],
 "metadata": {
  "kernelspec": {
   "display_name": "Python 3 (ipykernel)",
   "language": "python",
   "name": "python3"
  },
  "language_info": {
   "codemirror_mode": {
    "name": "ipython",
    "version": 3
   },
   "file_extension": ".py",
   "mimetype": "text/x-python",
   "name": "python",
   "nbconvert_exporter": "python",
   "pygments_lexer": "ipython3",
   "version": "3.12.7"
  }
 },
 "nbformat": 4,
 "nbformat_minor": 5
}
